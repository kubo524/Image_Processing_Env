{
 "cells": [
  {
   "cell_type": "code",
   "execution_count": 1,
   "metadata": {},
   "outputs": [
    {
     "name": "stdout",
     "output_type": "stream",
     "text": [
      "\u001b[0m\u001b[01;36mbin\u001b[0m@   \u001b[01;34metc\u001b[0m/   \u001b[01;36mlib32\u001b[0m@   \u001b[01;34mmedia\u001b[0m/         \u001b[01;34mopt\u001b[0m/   \u001b[01;34mrun\u001b[0m/   \u001b[01;34msys\u001b[0m/  \u001b[01;34mvar\u001b[0m/\n",
      "\u001b[01;34mboot\u001b[0m/  \u001b[01;34mhome\u001b[0m/  \u001b[01;36mlib64\u001b[0m@   \u001b[01;34mmnt\u001b[0m/           \u001b[01;34mproc\u001b[0m/  \u001b[01;36msbin\u001b[0m@  \u001b[30;42mtmp\u001b[0m/\n",
      "\u001b[01;34mdev\u001b[0m/   \u001b[01;36mlib\u001b[0m@   \u001b[01;36mlibx32\u001b[0m@  \u001b[01;34mmy-workplace\u001b[0m/  \u001b[01;34mroot\u001b[0m/  \u001b[01;34msrv\u001b[0m/   \u001b[01;34musr\u001b[0m/\n"
     ]
    }
   ],
   "source": [
    "ls"
   ]
  },
  {
   "cell_type": "code",
   "execution_count": 2,
   "metadata": {},
   "outputs": [
    {
     "data": {
      "text/plain": [
       "'/'"
      ]
     },
     "execution_count": 2,
     "metadata": {},
     "output_type": "execute_result"
    }
   ],
   "source": [
    "pwd"
   ]
  },
  {
   "cell_type": "code",
   "execution_count": 4,
   "metadata": {},
   "outputs": [
    {
     "name": "stdout",
     "output_type": "stream",
     "text": [
      "/my-workplace\n"
     ]
    }
   ],
   "source": [
    "cd my-workplace"
   ]
  },
  {
   "cell_type": "code",
   "execution_count": 6,
   "metadata": {},
   "outputs": [
    {
     "name": "stdout",
     "output_type": "stream",
     "text": [
      "test\n"
     ]
    }
   ],
   "source": [
    "print('test')"
   ]
  },
  {
   "cell_type": "code",
   "execution_count": null,
   "metadata": {},
   "outputs": [],
   "source": []
  }
 ],
 "metadata": {
  "kernelspec": {
   "display_name": "Python 3",
   "language": "python",
   "name": "python3"
  },
  "language_info": {
   "codemirror_mode": {
    "name": "ipython",
    "version": 3
   },
   "file_extension": ".py",
   "mimetype": "text/x-python",
   "name": "python",
   "nbconvert_exporter": "python",
   "pygments_lexer": "ipython3",
   "version": "3.8.3"
  }
 },
 "nbformat": 4,
 "nbformat_minor": 4
}
